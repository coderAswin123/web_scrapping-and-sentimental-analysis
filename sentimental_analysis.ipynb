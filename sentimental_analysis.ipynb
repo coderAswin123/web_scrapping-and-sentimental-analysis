{
 "cells": [
  {
   "cell_type": "code",
   "execution_count": 125,
   "id": "6d1c1413",
   "metadata": {},
   "outputs": [],
   "source": [
    "import selenium\n",
    "from selenium import webdriver\n",
    "from selenium.webdriver.common.by import By\n",
    "from selenium.webdriver.common.keys import Keys\n",
    "from time import sleep\n",
    "import getpass\n"
   ]
  },
  {
   "cell_type": "code",
   "execution_count": 126,
   "id": "4a5a360a",
   "metadata": {},
   "outputs": [
    {
     "name": "stdout",
     "output_type": "stream",
     "text": [
      "········\n"
     ]
    }
   ],
   "source": [
    "my_user = \"ScrapB77087\"\n",
    "my_pass = getpass.getpass()"
   ]
  },
  {
   "cell_type": "code",
   "execution_count": 127,
   "id": "5dc147c2",
   "metadata": {},
   "outputs": [],
   "source": [
    "search_item = \"Russia\""
   ]
  },
  {
   "cell_type": "code",
   "execution_count": 128,
   "id": "cb540d00",
   "metadata": {},
   "outputs": [],
   "source": [
    "driver = webdriver.Chrome()\n",
    "driver.get(\"https://twitter.com/i/flow/login\")\n",
    "# driver.maximize_window()\n",
    "sleep(3)"
   ]
  },
  {
   "cell_type": "code",
   "execution_count": 129,
   "id": "6fdef09a",
   "metadata": {},
   "outputs": [],
   "source": [
    "user_id = driver.find_element(By.XPATH,\"//input[@type='text']\")\n",
    "user_id.send_keys(my_user)\n",
    "user_id.send_keys(Keys.ENTER)"
   ]
  },
  {
   "cell_type": "code",
   "execution_count": 131,
   "id": "85d85e3d",
   "metadata": {},
   "outputs": [],
   "source": [
    "password = driver.find_element(By.XPATH,\"//input[@type='password']\")\n",
    "password.send_keys(my_pass)\n",
    "password.send_keys(Keys.ENTER)"
   ]
  },
  {
   "cell_type": "markdown",
   "id": "2f668e04",
   "metadata": {},
   "source": [
    "# scrape Tweets mentioning about Russia\n"
   ]
  },
  {
   "cell_type": "code",
   "execution_count": 132,
   "id": "f281c6d2",
   "metadata": {},
   "outputs": [],
   "source": [
    "search_box = driver.find_element(By.XPATH,\"//input[@data-testid='SearchBox_Search_Input']\")\n",
    "search_box.send_keys(search_item)\n",
    "search_box.send_keys(Keys.ENTER)\n"
   ]
  },
  {
   "cell_type": "code",
   "execution_count": 133,
   "id": "52a293c9",
   "metadata": {
    "scrolled": false
   },
   "outputs": [],
   "source": [
    "all_tweets = set()\n",
    "\n",
    "\n",
    "tweets = driver.find_elements(By.XPATH,\"//div[@data-testid='tweetText']\")\n",
    "while True:\n",
    "    for tweet in tweets:\n",
    "        all_tweets.add(tweet.text)\n",
    "    driver.execute_script('window.scrollTo(0,document.body.scrollHeight);')\n",
    "    sleep(3)\n",
    "    tweets = driver.find_elements(By.XPATH,\"//div[@data-testid='tweetText']\")\n",
    "    if len(all_tweets)>50:\n",
    "        break\n",
    "           "
   ]
  },
  {
   "cell_type": "code",
   "execution_count": 134,
   "id": "83e47187",
   "metadata": {},
   "outputs": [
    {
     "name": "stdout",
     "output_type": "stream",
     "text": [
      "54\n"
     ]
    }
   ],
   "source": [
    "print(len(all_tweets))"
   ]
  },
  {
   "cell_type": "code",
   "execution_count": 135,
   "id": "cbf2ba45",
   "metadata": {},
   "outputs": [
    {
     "data": {
      "text/plain": [
       "'True.\\n\\nI always wondered why NATO continued to exist even though its nemesis and reason to exist, The Warsaw Pact, had dissolved.'"
      ]
     },
     "execution_count": 135,
     "metadata": {},
     "output_type": "execute_result"
    }
   ],
   "source": [
    "all_tweets = list(all_tweets)\n",
    "all_tweets[0]\n"
   ]
  },
  {
   "cell_type": "markdown",
   "id": "42a4d096",
   "metadata": {},
   "source": [
    "# cleaning the tweets"
   ]
  },
  {
   "cell_type": "code",
   "execution_count": 136,
   "id": "9c5957df",
   "metadata": {},
   "outputs": [
    {
     "name": "stderr",
     "output_type": "stream",
     "text": [
      "[nltk_data] Downloading package punkt to\n",
      "[nltk_data]     C:\\Users\\welcome\\AppData\\Roaming\\nltk_data...\n",
      "[nltk_data]   Package punkt is already up-to-date!\n",
      "[nltk_data] Downloading package stopwords to\n",
      "[nltk_data]     C:\\Users\\welcome\\AppData\\Roaming\\nltk_data...\n",
      "[nltk_data]   Package stopwords is already up-to-date!\n"
     ]
    }
   ],
   "source": [
    "import pandas as pd\n",
    "pd.options.display.max_colwidth = 1000\n",
    "import re\n",
    "import nltk\n",
    "nltk.download('punkt')\n",
    "nltk.download('stopwords')\n",
    "\n",
    "from nltk.corpus import stopwords\n",
    "from nltk.tokenize import word_tokenize\n"
   ]
  },
  {
   "cell_type": "code",
   "execution_count": 137,
   "id": "d5898cf2",
   "metadata": {},
   "outputs": [
    {
     "name": "stdout",
     "output_type": "stream",
     "text": [
      "['i', 'me', 'my', 'myself', 'we', 'our', 'ours', 'ourselves', 'you', \"you're\", \"you've\", \"you'll\", \"you'd\", 'your', 'yours', 'yourself', 'yourselves', 'he', 'him', 'his', 'himself', 'she', \"she's\", 'her', 'hers', 'herself', 'it', \"it's\", 'its', 'itself', 'they', 'them', 'their', 'theirs', 'themselves', 'what', 'which', 'who', 'whom', 'this', 'that', \"that'll\", 'these', 'those', 'am', 'is', 'are', 'was', 'were', 'be', 'been', 'being', 'have', 'has', 'had', 'having', 'do', 'does', 'did', 'doing', 'a', 'an', 'the', 'and', 'but', 'if', 'or', 'because', 'as', 'until', 'while', 'of', 'at', 'by', 'for', 'with', 'about', 'against', 'between', 'into', 'through', 'during', 'before', 'after', 'above', 'below', 'to', 'from', 'up', 'down', 'in', 'out', 'on', 'off', 'over', 'under', 'again', 'further', 'then', 'once', 'here', 'there', 'when', 'where', 'why', 'how', 'all', 'any', 'both', 'each', 'few', 'more', 'most', 'other', 'some', 'such', 'no', 'nor', 'not', 'only', 'own', 'same', 'so', 'than', 'too', 'very', 's', 't', 'can', 'will', 'just', 'don', \"don't\", 'should', \"should've\", 'now', 'd', 'll', 'm', 'o', 're', 've', 'y', 'ain', 'aren', \"aren't\", 'couldn', \"couldn't\", 'didn', \"didn't\", 'doesn', \"doesn't\", 'hadn', \"hadn't\", 'hasn', \"hasn't\", 'haven', \"haven't\", 'isn', \"isn't\", 'ma', 'mightn', \"mightn't\", 'mustn', \"mustn't\", 'needn', \"needn't\", 'shan', \"shan't\", 'shouldn', \"shouldn't\", 'wasn', \"wasn't\", 'weren', \"weren't\", 'won', \"won't\", 'wouldn', \"wouldn't\"]\n"
     ]
    }
   ],
   "source": [
    "stp_words = stopwords.words('english')\n",
    "print(stp_words)"
   ]
  },
  {
   "cell_type": "code",
   "execution_count": 138,
   "id": "9161816b",
   "metadata": {},
   "outputs": [
    {
     "data": {
      "text/html": [
       "<div>\n",
       "<style scoped>\n",
       "    .dataframe tbody tr th:only-of-type {\n",
       "        vertical-align: middle;\n",
       "    }\n",
       "\n",
       "    .dataframe tbody tr th {\n",
       "        vertical-align: top;\n",
       "    }\n",
       "\n",
       "    .dataframe thead th {\n",
       "        text-align: right;\n",
       "    }\n",
       "</style>\n",
       "<table border=\"1\" class=\"dataframe\">\n",
       "  <thead>\n",
       "    <tr style=\"text-align: right;\">\n",
       "      <th></th>\n",
       "      <th>tweets</th>\n",
       "    </tr>\n",
       "  </thead>\n",
       "  <tbody>\n",
       "    <tr>\n",
       "      <th>0</th>\n",
       "      <td>True.\\n\\nI always wondered why NATO continued to exist even though its nemesis and reason to exist, The Warsaw Pact, had dissolved.</td>\n",
       "    </tr>\n",
       "    <tr>\n",
       "      <th>1</th>\n",
       "      <td>War in Ukraine  Russian soldier takes down upcoming Ukrainian Kamikaze Drone with a shotgun #Ukraina #Russia #UkraineWar</td>\n",
       "    </tr>\n",
       "    <tr>\n",
       "      <th>2</th>\n",
       "      <td>Russia took advantage of the flight of Russians during the 2022 mobilization to send its agents to the EU, - WSJ\\n\\n The publication reports that during the mobilization, Putin kept the borders open in order to send his intelligence agents abroad with the fleeing Russians.</td>\n",
       "    </tr>\n",
       "    <tr>\n",
       "      <th>3</th>\n",
       "      <td>Prez Putin opens the World Youth Festival in Sirius (Sochi, Southern Russia), where 20,000 young leaders from 188 countries &amp; across many fields of expertise have come to share knowledge &amp; build cultural bridges\\n\\nIsolated Russia  ...</td>\n",
       "    </tr>\n",
       "    <tr>\n",
       "      <th>4</th>\n",
       "      <td>Peter Hitchens in MOS. Is anyone surprised at this ? Ukraine &amp; Russia are two of the most corrupt countries in the world.</td>\n",
       "    </tr>\n",
       "  </tbody>\n",
       "</table>\n",
       "</div>"
      ],
      "text/plain": [
       "                                                                                                                                                                                                                                                                              tweets\n",
       "0                                                                                                                                                True.\\n\\nI always wondered why NATO continued to exist even though its nemesis and reason to exist, The Warsaw Pact, had dissolved.\n",
       "1                                                                                                                                                           War in Ukraine  Russian soldier takes down upcoming Ukrainian Kamikaze Drone with a shotgun #Ukraina #Russia #UkraineWar\n",
       "2  Russia took advantage of the flight of Russians during the 2022 mobilization to send its agents to the EU, - WSJ\\n\\n The publication reports that during the mobilization, Putin kept the borders open in order to send his intelligence agents abroad with the fleeing Russians.\n",
       "3                                        Prez Putin opens the World Youth Festival in Sirius (Sochi, Southern Russia), where 20,000 young leaders from 188 countries & across many fields of expertise have come to share knowledge & build cultural bridges\\n\\nIsolated Russia  ...\n",
       "4                                                                                                                                                          Peter Hitchens in MOS. Is anyone surprised at this ? Ukraine & Russia are two of the most corrupt countries in the world."
      ]
     },
     "execution_count": 138,
     "metadata": {},
     "output_type": "execute_result"
    }
   ],
   "source": [
    "df = pd.DataFrame(all_tweets,columns=['tweets'])\n",
    "df.head()"
   ]
  },
  {
   "cell_type": "code",
   "execution_count": 139,
   "id": "92a545e2",
   "metadata": {},
   "outputs": [
    {
     "data": {
      "text/plain": [
       "'Peter Hitchens in MOS. Is anyone surprised at this ? Ukraine & Russia are two of the most corrupt countries in the world.'"
      ]
     },
     "execution_count": 139,
     "metadata": {},
     "output_type": "execute_result"
    }
   ],
   "source": [
    "one_tweet=df.iloc[4]['tweets']\n",
    "one_tweet"
   ]
  },
  {
   "cell_type": "code",
   "execution_count": 140,
   "id": "2efda491",
   "metadata": {},
   "outputs": [],
   "source": [
    "from textblob import TextBlob\n",
    "from wordcloud import WordCloud\n",
    "\n",
    "def TweetCleaning(tweet):\n",
    "    cleanTweet = re.sub(r\"@[a-zA-Z0-9]+\",\"\",tweet)\n",
    "    cleanTweet = re.sub(r\"#\",\"\",cleanTweet)\n",
    "    cleanTweet = re.sub(r\"\\n\",\" \",cleanTweet)\n",
    "    cleanTweet = ' '.join(word for word in cleanTweet.split() if word not in stp_words)\n",
    "    return cleanTweet\n",
    "\n",
    "def calPolarity(tweet):\n",
    "    return TextBlob(tweet).sentiment.polarity\n",
    "\n",
    "def calSubjectivity(tweet):\n",
    "    return TextBlob(tweet).sentiment.subjectivity\n",
    "\n",
    "def segmentation(tweet):\n",
    "    if tweet > 0:\n",
    "        return \"positive\"\n",
    "    if tweet == 0:\n",
    "        return \"neutral\"\n",
    "    else:\n",
    "        return \"negative\"\n"
   ]
  },
  {
   "cell_type": "code",
   "execution_count": 141,
   "id": "dbc3488a",
   "metadata": {},
   "outputs": [
    {
     "data": {
      "text/html": [
       "<div>\n",
       "<style scoped>\n",
       "    .dataframe tbody tr th:only-of-type {\n",
       "        vertical-align: middle;\n",
       "    }\n",
       "\n",
       "    .dataframe tbody tr th {\n",
       "        vertical-align: top;\n",
       "    }\n",
       "\n",
       "    .dataframe thead th {\n",
       "        text-align: right;\n",
       "    }\n",
       "</style>\n",
       "<table border=\"1\" class=\"dataframe\">\n",
       "  <thead>\n",
       "    <tr style=\"text-align: right;\">\n",
       "      <th></th>\n",
       "      <th>tweets</th>\n",
       "      <th>cleanedTweets</th>\n",
       "      <th>tPolarity</th>\n",
       "      <th>tSubjectivity</th>\n",
       "      <th>segmentation</th>\n",
       "    </tr>\n",
       "  </thead>\n",
       "  <tbody>\n",
       "    <tr>\n",
       "      <th>0</th>\n",
       "      <td>True.\\n\\nI always wondered why NATO continued to exist even though its nemesis and reason to exist, The Warsaw Pact, had dissolved.</td>\n",
       "      <td>True. I always wondered NATO continued exist even though nemesis reason exist, The Warsaw Pact, dissolved.</td>\n",
       "      <td>0.350</td>\n",
       "      <td>0.65</td>\n",
       "      <td>positive</td>\n",
       "    </tr>\n",
       "    <tr>\n",
       "      <th>1</th>\n",
       "      <td>War in Ukraine  Russian soldier takes down upcoming Ukrainian Kamikaze Drone with a shotgun #Ukraina #Russia #UkraineWar</td>\n",
       "      <td>War Ukraine Russian soldier takes upcoming Ukrainian Kamikaze Drone shotgun Ukraina Russia UkraineWar</td>\n",
       "      <td>0.000</td>\n",
       "      <td>0.00</td>\n",
       "      <td>neutral</td>\n",
       "    </tr>\n",
       "    <tr>\n",
       "      <th>2</th>\n",
       "      <td>Russia took advantage of the flight of Russians during the 2022 mobilization to send its agents to the EU, - WSJ\\n\\n The publication reports that during the mobilization, Putin kept the borders open in order to send his intelligence agents abroad with the fleeing Russians.</td>\n",
       "      <td>Russia took advantage flight Russians 2022 mobilization send agents EU, - WSJ The publication reports mobilization, Putin kept borders open order send intelligence agents abroad fleeing Russians.</td>\n",
       "      <td>0.000</td>\n",
       "      <td>0.50</td>\n",
       "      <td>neutral</td>\n",
       "    </tr>\n",
       "    <tr>\n",
       "      <th>3</th>\n",
       "      <td>Prez Putin opens the World Youth Festival in Sirius (Sochi, Southern Russia), where 20,000 young leaders from 188 countries &amp; across many fields of expertise have come to share knowledge &amp; build cultural bridges\\n\\nIsolated Russia  ...</td>\n",
       "      <td>Prez Putin opens World Youth Festival Sirius (Sochi, Southern Russia), 20,000 young leaders 188 countries &amp; across many fields expertise come share knowledge &amp; build cultural bridges Isolated Russia ...</td>\n",
       "      <td>0.175</td>\n",
       "      <td>0.25</td>\n",
       "      <td>positive</td>\n",
       "    </tr>\n",
       "    <tr>\n",
       "      <th>4</th>\n",
       "      <td>Peter Hitchens in MOS. Is anyone surprised at this ? Ukraine &amp; Russia are two of the most corrupt countries in the world.</td>\n",
       "      <td>Peter Hitchens MOS. Is anyone surprised ? Ukraine &amp; Russia two corrupt countries world.</td>\n",
       "      <td>-0.200</td>\n",
       "      <td>0.95</td>\n",
       "      <td>negative</td>\n",
       "    </tr>\n",
       "  </tbody>\n",
       "</table>\n",
       "</div>"
      ],
      "text/plain": [
       "                                                                                                                                                                                                                                                                              tweets  \\\n",
       "0                                                                                                                                                True.\\n\\nI always wondered why NATO continued to exist even though its nemesis and reason to exist, The Warsaw Pact, had dissolved.   \n",
       "1                                                                                                                                                           War in Ukraine  Russian soldier takes down upcoming Ukrainian Kamikaze Drone with a shotgun #Ukraina #Russia #UkraineWar   \n",
       "2  Russia took advantage of the flight of Russians during the 2022 mobilization to send its agents to the EU, - WSJ\\n\\n The publication reports that during the mobilization, Putin kept the borders open in order to send his intelligence agents abroad with the fleeing Russians.   \n",
       "3                                        Prez Putin opens the World Youth Festival in Sirius (Sochi, Southern Russia), where 20,000 young leaders from 188 countries & across many fields of expertise have come to share knowledge & build cultural bridges\\n\\nIsolated Russia  ...   \n",
       "4                                                                                                                                                          Peter Hitchens in MOS. Is anyone surprised at this ? Ukraine & Russia are two of the most corrupt countries in the world.   \n",
       "\n",
       "                                                                                                                                                                                                cleanedTweets  \\\n",
       "0                                                                                                  True. I always wondered NATO continued exist even though nemesis reason exist, The Warsaw Pact, dissolved.   \n",
       "1                                                                                                       War Ukraine Russian soldier takes upcoming Ukrainian Kamikaze Drone shotgun Ukraina Russia UkraineWar   \n",
       "2         Russia took advantage flight Russians 2022 mobilization send agents EU, - WSJ The publication reports mobilization, Putin kept borders open order send intelligence agents abroad fleeing Russians.   \n",
       "3  Prez Putin opens World Youth Festival Sirius (Sochi, Southern Russia), 20,000 young leaders 188 countries & across many fields expertise come share knowledge & build cultural bridges Isolated Russia ...   \n",
       "4                                                                                                                     Peter Hitchens MOS. Is anyone surprised ? Ukraine & Russia two corrupt countries world.   \n",
       "\n",
       "   tPolarity  tSubjectivity segmentation  \n",
       "0      0.350           0.65     positive  \n",
       "1      0.000           0.00      neutral  \n",
       "2      0.000           0.50      neutral  \n",
       "3      0.175           0.25     positive  \n",
       "4     -0.200           0.95     negative  "
      ]
     },
     "execution_count": 141,
     "metadata": {},
     "output_type": "execute_result"
    }
   ],
   "source": [
    "df['cleanedTweets'] = df['tweets'].apply(TweetCleaning)\n",
    "df['tPolarity'] = df['cleanedTweets'].apply(calPolarity)\n",
    "df['tSubjectivity'] = df['cleanedTweets'].apply(calSubjectivity)\n",
    "df['segmentation'] = df['tPolarity'].apply(segmentation)\n",
    "df.head()"
   ]
  },
  {
   "cell_type": "markdown",
   "id": "f490229c",
   "metadata": {},
   "source": [
    "# #  Analysis and Visualization\n"
   ]
  },
  {
   "cell_type": "code",
   "execution_count": 142,
   "id": "eb72f514",
   "metadata": {},
   "outputs": [
    {
     "data": {
      "text/html": [
       "<div>\n",
       "<style scoped>\n",
       "    .dataframe tbody tr th:only-of-type {\n",
       "        vertical-align: middle;\n",
       "    }\n",
       "\n",
       "    .dataframe tbody tr th {\n",
       "        vertical-align: top;\n",
       "    }\n",
       "\n",
       "    .dataframe thead th {\n",
       "        text-align: right;\n",
       "    }\n",
       "</style>\n",
       "<table border=\"1\" class=\"dataframe\">\n",
       "  <thead>\n",
       "    <tr style=\"text-align: right;\">\n",
       "      <th></th>\n",
       "      <th>segmentation</th>\n",
       "    </tr>\n",
       "    <tr>\n",
       "      <th>segmentation</th>\n",
       "      <th></th>\n",
       "    </tr>\n",
       "  </thead>\n",
       "  <tbody>\n",
       "    <tr>\n",
       "      <th>negative</th>\n",
       "      <td>12</td>\n",
       "    </tr>\n",
       "    <tr>\n",
       "      <th>neutral</th>\n",
       "      <td>17</td>\n",
       "    </tr>\n",
       "    <tr>\n",
       "      <th>positive</th>\n",
       "      <td>25</td>\n",
       "    </tr>\n",
       "  </tbody>\n",
       "</table>\n",
       "</div>"
      ],
      "text/plain": [
       "              segmentation\n",
       "segmentation              \n",
       "negative                12\n",
       "neutral                 17\n",
       "positive                25"
      ]
     },
     "execution_count": 142,
     "metadata": {},
     "output_type": "execute_result"
    }
   ],
   "source": [
    "df.pivot_table(index=['segmentation'],aggfunc={'segmentation':'count'})\n"
   ]
  },
  {
   "cell_type": "code",
   "execution_count": 143,
   "id": "a658a8a4",
   "metadata": {},
   "outputs": [
    {
     "data": {
      "text/html": [
       "<div>\n",
       "<style scoped>\n",
       "    .dataframe tbody tr th:only-of-type {\n",
       "        vertical-align: middle;\n",
       "    }\n",
       "\n",
       "    .dataframe tbody tr th {\n",
       "        vertical-align: top;\n",
       "    }\n",
       "\n",
       "    .dataframe thead th {\n",
       "        text-align: right;\n",
       "    }\n",
       "</style>\n",
       "<table border=\"1\" class=\"dataframe\">\n",
       "  <thead>\n",
       "    <tr style=\"text-align: right;\">\n",
       "      <th></th>\n",
       "      <th>tweets</th>\n",
       "      <th>cleanedTweets</th>\n",
       "      <th>tPolarity</th>\n",
       "      <th>tSubjectivity</th>\n",
       "      <th>segmentation</th>\n",
       "    </tr>\n",
       "  </thead>\n",
       "  <tbody>\n",
       "    <tr>\n",
       "      <th>25</th>\n",
       "      <td>We are together! Images from today's opening of the World Youth Festival in #Sirius #Russia Beautiful!</td>\n",
       "      <td>We together! Images today's opening World Youth Festival Sirius Russia Beautiful!</td>\n",
       "      <td>1.000000</td>\n",
       "      <td>1.000000</td>\n",
       "      <td>positive</td>\n",
       "    </tr>\n",
       "    <tr>\n",
       "      <th>34</th>\n",
       "      <td>Have a good day! #Russia</td>\n",
       "      <td>Have good day! Russia</td>\n",
       "      <td>0.875000</td>\n",
       "      <td>0.600000</td>\n",
       "      <td>positive</td>\n",
       "    </tr>\n",
       "    <tr>\n",
       "      <th>11</th>\n",
       "      <td>\"Freedom in the world 2024\"\\nAnnual Freedom House Index displays the level of the freedom citizen of the countries enjoy. #Finland is ranking highest with 100 points, #Estonia has strong 95 points, Moldova 61, Georgia 58, Armenia 54, #Ukraine 49, Russia 13 and Belarus 8.\\nIn…</td>\n",
       "      <td>\"Freedom world 2024\" Annual Freedom House Index displays level freedom citizen countries enjoy. Finland ranking highest 100 points, Estonia strong 95 points, Moldova 61, Georgia 58, Armenia 54, Ukraine 49, Russia 13 Belarus 8. In…</td>\n",
       "      <td>0.416667</td>\n",
       "      <td>0.616667</td>\n",
       "      <td>positive</td>\n",
       "    </tr>\n",
       "  </tbody>\n",
       "</table>\n",
       "</div>"
      ],
      "text/plain": [
       "                                                                                                                                                                                                                                                                                  tweets  \\\n",
       "25                                                                                                                                                                               We are together! Images from today's opening of the World Youth Festival in #Sirius #Russia Beautiful!    \n",
       "34                                                                                                                                                                                                                                                              Have a good day! #Russia   \n",
       "11  \"Freedom in the world 2024\"\\nAnnual Freedom House Index displays the level of the freedom citizen of the countries enjoy. #Finland is ranking highest with 100 points, #Estonia has strong 95 points, Moldova 61, Georgia 58, Armenia 54, #Ukraine 49, Russia 13 and Belarus 8.\\nIn…   \n",
       "\n",
       "                                                                                                                                                                                                                             cleanedTweets  \\\n",
       "25                                                                                                                                                       We together! Images today's opening World Youth Festival Sirius Russia Beautiful!   \n",
       "34                                                                                                                                                                                                                   Have good day! Russia   \n",
       "11  \"Freedom world 2024\" Annual Freedom House Index displays level freedom citizen countries enjoy. Finland ranking highest 100 points, Estonia strong 95 points, Moldova 61, Georgia 58, Armenia 54, Ukraine 49, Russia 13 Belarus 8. In…   \n",
       "\n",
       "    tPolarity  tSubjectivity segmentation  \n",
       "25   1.000000       1.000000     positive  \n",
       "34   0.875000       0.600000     positive  \n",
       "11   0.416667       0.616667     positive  "
      ]
     },
     "execution_count": 143,
     "metadata": {},
     "output_type": "execute_result"
    }
   ],
   "source": [
    "# top 3 most positive\n",
    "df.sort_values(by=['tPolarity'],ascending=False).head(3)\n"
   ]
  },
  {
   "cell_type": "code",
   "execution_count": 144,
   "id": "223a0ad3",
   "metadata": {},
   "outputs": [
    {
     "data": {
      "text/html": [
       "<div>\n",
       "<style scoped>\n",
       "    .dataframe tbody tr th:only-of-type {\n",
       "        vertical-align: middle;\n",
       "    }\n",
       "\n",
       "    .dataframe tbody tr th {\n",
       "        vertical-align: top;\n",
       "    }\n",
       "\n",
       "    .dataframe thead th {\n",
       "        text-align: right;\n",
       "    }\n",
       "</style>\n",
       "<table border=\"1\" class=\"dataframe\">\n",
       "  <thead>\n",
       "    <tr style=\"text-align: right;\">\n",
       "      <th></th>\n",
       "      <th>tweets</th>\n",
       "      <th>cleanedTweets</th>\n",
       "      <th>tPolarity</th>\n",
       "      <th>tSubjectivity</th>\n",
       "      <th>segmentation</th>\n",
       "    </tr>\n",
       "  </thead>\n",
       "  <tbody>\n",
       "    <tr>\n",
       "      <th>50</th>\n",
       "      <td>How can this be allowed??? That russia is a criminal, terrorist state, this we know…but to see how this people are still getting slaughtered while crying for help…two years later..! What a betrayal, what a disgusting world</td>\n",
       "      <td>How allowed??? That russia criminal, terrorist state, know…but see people still getting slaughtered crying help…two years later..! What betrayal, disgusting world</td>\n",
       "      <td>-0.400000</td>\n",
       "      <td>0.5375</td>\n",
       "      <td>negative</td>\n",
       "    </tr>\n",
       "    <tr>\n",
       "      <th>39</th>\n",
       "      <td>#BREAKING – #Russia - #Karabulak, #Ingushetia: The situation remains currently extremely tense as resistance fighters continue with their fighting against Putin's regime forces.</td>\n",
       "      <td>BREAKING – Russia - Karabulak, Ingushetia: The situation remains currently extremely tense resistance fighters continue fighting Putin's regime forces.</td>\n",
       "      <td>-0.333333</td>\n",
       "      <td>0.5000</td>\n",
       "      <td>negative</td>\n",
       "    </tr>\n",
       "    <tr>\n",
       "      <th>51</th>\n",
       "      <td>Fuck the Absolute Monarchy\\nFuck the Nazism\\nFuck the Communism</td>\n",
       "      <td>Fuck Absolute Monarchy Fuck Nazism Fuck Communism</td>\n",
       "      <td>-0.250000</td>\n",
       "      <td>0.6750</td>\n",
       "      <td>negative</td>\n",
       "    </tr>\n",
       "  </tbody>\n",
       "</table>\n",
       "</div>"
      ],
      "text/plain": [
       "                                                                                                                                                                                                                            tweets  \\\n",
       "50  How can this be allowed??? That russia is a criminal, terrorist state, this we know…but to see how this people are still getting slaughtered while crying for help…two years later..! What a betrayal, what a disgusting world   \n",
       "39                                               #BREAKING – #Russia - #Karabulak, #Ingushetia: The situation remains currently extremely tense as resistance fighters continue with their fighting against Putin's regime forces.   \n",
       "51                                                                                                                                                                 Fuck the Absolute Monarchy\\nFuck the Nazism\\nFuck the Communism   \n",
       "\n",
       "                                                                                                                                                         cleanedTweets  \\\n",
       "50  How allowed??? That russia criminal, terrorist state, know…but see people still getting slaughtered crying help…two years later..! What betrayal, disgusting world   \n",
       "39             BREAKING – Russia - Karabulak, Ingushetia: The situation remains currently extremely tense resistance fighters continue fighting Putin's regime forces.   \n",
       "51                                                                                                                   Fuck Absolute Monarchy Fuck Nazism Fuck Communism   \n",
       "\n",
       "    tPolarity  tSubjectivity segmentation  \n",
       "50  -0.400000         0.5375     negative  \n",
       "39  -0.333333         0.5000     negative  \n",
       "51  -0.250000         0.6750     negative  "
      ]
     },
     "execution_count": 144,
     "metadata": {},
     "output_type": "execute_result"
    }
   ],
   "source": [
    "# top 3 most negative\n",
    "df.sort_values(by=['tPolarity'],ascending=True).head(3)"
   ]
  },
  {
   "cell_type": "code",
   "execution_count": 145,
   "id": "3700581c",
   "metadata": {},
   "outputs": [
    {
     "data": {
      "text/html": [
       "<div>\n",
       "<style scoped>\n",
       "    .dataframe tbody tr th:only-of-type {\n",
       "        vertical-align: middle;\n",
       "    }\n",
       "\n",
       "    .dataframe tbody tr th {\n",
       "        vertical-align: top;\n",
       "    }\n",
       "\n",
       "    .dataframe thead th {\n",
       "        text-align: right;\n",
       "    }\n",
       "</style>\n",
       "<table border=\"1\" class=\"dataframe\">\n",
       "  <thead>\n",
       "    <tr style=\"text-align: right;\">\n",
       "      <th></th>\n",
       "      <th>tweets</th>\n",
       "      <th>cleanedTweets</th>\n",
       "      <th>tPolarity</th>\n",
       "      <th>tSubjectivity</th>\n",
       "      <th>segmentation</th>\n",
       "    </tr>\n",
       "  </thead>\n",
       "  <tbody>\n",
       "    <tr>\n",
       "      <th>1</th>\n",
       "      <td>War in Ukraine  Russian soldier takes down upcoming Ukrainian Kamikaze Drone with a shotgun #Ukraina #Russia #UkraineWar</td>\n",
       "      <td>War Ukraine Russian soldier takes upcoming Ukrainian Kamikaze Drone shotgun Ukraina Russia UkraineWar</td>\n",
       "      <td>0.0</td>\n",
       "      <td>0.000000</td>\n",
       "      <td>neutral</td>\n",
       "    </tr>\n",
       "    <tr>\n",
       "      <th>2</th>\n",
       "      <td>Russia took advantage of the flight of Russians during the 2022 mobilization to send its agents to the EU, - WSJ\\n\\n The publication reports that during the mobilization, Putin kept the borders open in order to send his intelligence agents abroad with the fleeing Russians.</td>\n",
       "      <td>Russia took advantage flight Russians 2022 mobilization send agents EU, - WSJ The publication reports mobilization, Putin kept borders open order send intelligence agents abroad fleeing Russians.</td>\n",
       "      <td>0.0</td>\n",
       "      <td>0.500000</td>\n",
       "      <td>neutral</td>\n",
       "    </tr>\n",
       "    <tr>\n",
       "      <th>7</th>\n",
       "      <td>Lavrov also promised russia would not attack Ukraine.</td>\n",
       "      <td>Lavrov also promised russia would attack Ukraine.</td>\n",
       "      <td>0.0</td>\n",
       "      <td>0.000000</td>\n",
       "      <td>neutral</td>\n",
       "    </tr>\n",
       "    <tr>\n",
       "      <th>9</th>\n",
       "      <td>Support of citizens in Russia</td>\n",
       "      <td>Support citizens Russia</td>\n",
       "      <td>0.0</td>\n",
       "      <td>0.000000</td>\n",
       "      <td>neutral</td>\n",
       "    </tr>\n",
       "    <tr>\n",
       "      <th>17</th>\n",
       "      <td>Lavrov promises that #Russia will not attack another country in Eastern Europe</td>\n",
       "      <td>Lavrov promises Russia attack another country Eastern Europe</td>\n",
       "      <td>0.0</td>\n",
       "      <td>0.000000</td>\n",
       "      <td>neutral</td>\n",
       "    </tr>\n",
       "    <tr>\n",
       "      <th>18</th>\n",
       "      <td>The World Youth Festival is taking place in Sochi. \\n\\n188 countries of the world (193 are represented in the UN), more than 20 thousand participants. Russia has never been so \"isolated\"!\\n\\nEach participant will return home and tell about what they saw - and this will be the best…</td>\n",
       "      <td>The World Youth Festival taking place Sochi. 188 countries world (193 represented UN), 20 thousand participants. Russia never \"isolated\"! Each participant return home tell saw - best…</td>\n",
       "      <td>0.0</td>\n",
       "      <td>0.000000</td>\n",
       "      <td>neutral</td>\n",
       "    </tr>\n",
       "    <tr>\n",
       "      <th>19</th>\n",
       "      <td>War in Russia. The beggining. \\n\\nKarabulak, Ingushetia, Russia. CTO declared, city echoes with explosions, gunfire. Islamist militants cornered, unleashing chaos on FSB forces. \\n\\nIn Ukraine, we nod, 'Reap what you sow.' Russia's war bleeds back onto its streets. War, once…</td>\n",
       "      <td>War Russia. The beggining. Karabulak, Ingushetia, Russia. CTO declared, city echoes explosions, gunfire. Islamist militants cornered, unleashing chaos FSB forces. In Ukraine, nod, 'Reap sow.' Russia's war bleeds back onto streets. War, once…</td>\n",
       "      <td>0.0</td>\n",
       "      <td>0.000000</td>\n",
       "      <td>neutral</td>\n",
       "    </tr>\n",
       "    <tr>\n",
       "      <th>21</th>\n",
       "      <td>#FindeDenFehler\\nMiss Germany vs. Miss Russia</td>\n",
       "      <td>FindeDenFehler Miss Germany vs. Miss Russia</td>\n",
       "      <td>0.0</td>\n",
       "      <td>0.000000</td>\n",
       "      <td>neutral</td>\n",
       "    </tr>\n",
       "    <tr>\n",
       "      <th>24</th>\n",
       "      <td>I’M ON A TANK IN RUSSIA.</td>\n",
       "      <td>I’M ON A TANK IN RUSSIA.</td>\n",
       "      <td>0.0</td>\n",
       "      <td>0.000000</td>\n",
       "      <td>neutral</td>\n",
       "    </tr>\n",
       "    <tr>\n",
       "      <th>27</th>\n",
       "      <td>\"The French will not die for Ukraine!\"\\n\\nThe residents of Paris came out to a rally against sending Western troops to Ukraine.\\n\\nThe protesters demanded the republic's exit from the European Union and the termination of its membership in NATO.</td>\n",
       "      <td>\"The French die Ukraine!\" The residents Paris came rally sending Western troops Ukraine. The protesters demanded republic's exit European Union termination membership NATO.</td>\n",
       "      <td>0.0</td>\n",
       "      <td>0.000000</td>\n",
       "      <td>neutral</td>\n",
       "    </tr>\n",
       "    <tr>\n",
       "      <th>29</th>\n",
       "      <td>Russia Soldier enjoys playing with Ukrainian drone drop</td>\n",
       "      <td>Russia Soldier enjoys playing Ukrainian drone drop</td>\n",
       "      <td>0.0</td>\n",
       "      <td>0.000000</td>\n",
       "      <td>neutral</td>\n",
       "    </tr>\n",
       "    <tr>\n",
       "      <th>33</th>\n",
       "      <td>In the Leningrad region (Russia), near the port of Bronka on the Gulf of Finland, air defense systems were allegedly triggered, local authorities write. #RussiaIsCollapsing</td>\n",
       "      <td>In Leningrad region (Russia), near port Bronka Gulf Finland, air defense systems allegedly triggered, local authorities write. RussiaIsCollapsing</td>\n",
       "      <td>0.0</td>\n",
       "      <td>0.166667</td>\n",
       "      <td>neutral</td>\n",
       "    </tr>\n",
       "    <tr>\n",
       "      <th>37</th>\n",
       "      <td>You said, \"#VoteBlueToSaveAmerica\". In 2020, America did. Since then, \\nB!den has CENSORED Whites, IGNORED Blacks, PAID Migrants, Propagated for the Jews to Commit GENOCIDE on Muslims, LIED about Russia, TOOK MONEY from CHINA...what part of that SAVED AMERICA? Was it the Vaccines?…</td>\n",
       "      <td>You said, \"VoteBlueToSaveAmerica\". In 2020, America did. Since then, B!den CENSORED Whites, IGNORED Blacks, PAID Migrants, Propagated Jews Commit GENOCIDE Muslims, LIED Russia, TOOK MONEY CHINA...what part SAVED AMERICA? Was Vaccines?…</td>\n",
       "      <td>0.0</td>\n",
       "      <td>0.000000</td>\n",
       "      <td>neutral</td>\n",
       "    </tr>\n",
       "    <tr>\n",
       "      <th>38</th>\n",
       "      <td>Donetsk is the heart of Donbas.\\n\\nI understand that the struggle of the people of Donbas against the Kiev regime is one of the strongest acts of heroism and bravery, standing up for your culture, your language and your way of life!\\n\\nI stand with Donbas and Russia, do you?</td>\n",
       "      <td>Donetsk heart Donbas. I understand struggle people Donbas Kiev regime one strongest acts heroism bravery, standing culture, language way life! I stand Donbas Russia, you?</td>\n",
       "      <td>0.0</td>\n",
       "      <td>0.000000</td>\n",
       "      <td>neutral</td>\n",
       "    </tr>\n",
       "    <tr>\n",
       "      <th>46</th>\n",
       "      <td>In the 1880s, stories of atrocities against Jews in the Russian Empire began to be publicised in the Times and Telegraph with the backing of the Rothschilds and other elite Jewish families already living in Britain. They were investigated by British consuls in Russia who found…</td>\n",
       "      <td>In 1880s, stories atrocities Jews Russian Empire began publicised Times Telegraph backing Rothschilds elite Jewish families already living Britain. They investigated British consuls Russia found…</td>\n",
       "      <td>0.0</td>\n",
       "      <td>0.000000</td>\n",
       "      <td>neutral</td>\n",
       "    </tr>\n",
       "    <tr>\n",
       "      <th>49</th>\n",
       "      <td>We've seen this film before.\\n\\nThe question is, knowing the plot, will our leaders finally get their heads out of their ...  and stop it or will they watch in horror and surprise as russia begins \"liberating\" Moldova?</td>\n",
       "      <td>We've seen film before. The question is, knowing plot, leaders finally get heads ... stop watch horror surprise russia begins \"liberating\" Moldova?</td>\n",
       "      <td>0.0</td>\n",
       "      <td>1.000000</td>\n",
       "      <td>neutral</td>\n",
       "    </tr>\n",
       "    <tr>\n",
       "      <th>52</th>\n",
       "      <td>A firenado or fire tornado yesterday in Primorsky Krai, Russia  \\n#Russia #PrimorskyKrai #firenado #fire\\n@WeatherSarov1</td>\n",
       "      <td>A firenado fire tornado yesterday Primorsky Krai, Russia Russia PrimorskyKrai firenado fire</td>\n",
       "      <td>0.0</td>\n",
       "      <td>0.000000</td>\n",
       "      <td>neutral</td>\n",
       "    </tr>\n",
       "  </tbody>\n",
       "</table>\n",
       "</div>"
      ],
      "text/plain": [
       "                                                                                                                                                                                                                                                                                        tweets  \\\n",
       "1                                                                                                                                                                     War in Ukraine  Russian soldier takes down upcoming Ukrainian Kamikaze Drone with a shotgun #Ukraina #Russia #UkraineWar   \n",
       "2            Russia took advantage of the flight of Russians during the 2022 mobilization to send its agents to the EU, - WSJ\\n\\n The publication reports that during the mobilization, Putin kept the borders open in order to send his intelligence agents abroad with the fleeing Russians.   \n",
       "7                                                                                                                                                                                                                                        Lavrov also promised russia would not attack Ukraine.   \n",
       "9                                                                                                                                                                                                                                                               Support of citizens in Russia    \n",
       "17                                                                                                                                                                                                              Lavrov promises that #Russia will not attack another country in Eastern Europe   \n",
       "18  The World Youth Festival is taking place in Sochi. \\n\\n188 countries of the world (193 are represented in the UN), more than 20 thousand participants. Russia has never been so \"isolated\"!\\n\\nEach participant will return home and tell about what they saw - and this will be the best…   \n",
       "19        War in Russia. The beggining. \\n\\nKarabulak, Ingushetia, Russia. CTO declared, city echoes with explosions, gunfire. Islamist militants cornered, unleashing chaos on FSB forces. \\n\\nIn Ukraine, we nod, 'Reap what you sow.' Russia's war bleeds back onto its streets. War, once…   \n",
       "21                                                                                                                                                                                                                                               #FindeDenFehler\\nMiss Germany vs. Miss Russia   \n",
       "24                                                                                                                                                                                                                                                                    I’M ON A TANK IN RUSSIA.   \n",
       "27                                       \"The French will not die for Ukraine!\"\\n\\nThe residents of Paris came out to a rally against sending Western troops to Ukraine.\\n\\nThe protesters demanded the republic's exit from the European Union and the termination of its membership in NATO.   \n",
       "29                                                                                                                                                                                                                                     Russia Soldier enjoys playing with Ukrainian drone drop   \n",
       "33                                                                                                                In the Leningrad region (Russia), near the port of Bronka on the Gulf of Finland, air defense systems were allegedly triggered, local authorities write. #RussiaIsCollapsing   \n",
       "37  You said, \"#VoteBlueToSaveAmerica\". In 2020, America did. Since then, \\nB!den has CENSORED Whites, IGNORED Blacks, PAID Migrants, Propagated for the Jews to Commit GENOCIDE on Muslims, LIED about Russia, TOOK MONEY from CHINA...what part of that SAVED AMERICA? Was it the Vaccines?…   \n",
       "38         Donetsk is the heart of Donbas.\\n\\nI understand that the struggle of the people of Donbas against the Kiev regime is one of the strongest acts of heroism and bravery, standing up for your culture, your language and your way of life!\\n\\nI stand with Donbas and Russia, do you?   \n",
       "46      In the 1880s, stories of atrocities against Jews in the Russian Empire began to be publicised in the Times and Telegraph with the backing of the Rothschilds and other elite Jewish families already living in Britain. They were investigated by British consuls in Russia who found…   \n",
       "49                                                                  We've seen this film before.\\n\\nThe question is, knowing the plot, will our leaders finally get their heads out of their ...  and stop it or will they watch in horror and surprise as russia begins \"liberating\" Moldova?   \n",
       "52                                                                                                                                                                    A firenado or fire tornado yesterday in Primorsky Krai, Russia  \\n#Russia #PrimorskyKrai #firenado #fire\\n@WeatherSarov1   \n",
       "\n",
       "                                                                                                                                                                                                                                        cleanedTweets  \\\n",
       "1                                                                                                                                               War Ukraine Russian soldier takes upcoming Ukrainian Kamikaze Drone shotgun Ukraina Russia UkraineWar   \n",
       "2                                                 Russia took advantage flight Russians 2022 mobilization send agents EU, - WSJ The publication reports mobilization, Putin kept borders open order send intelligence agents abroad fleeing Russians.   \n",
       "7                                                                                                                                                                                                   Lavrov also promised russia would attack Ukraine.   \n",
       "9                                                                                                                                                                                                                             Support citizens Russia   \n",
       "17                                                                                                                                                                                       Lavrov promises Russia attack another country Eastern Europe   \n",
       "18                                                            The World Youth Festival taking place Sochi. 188 countries world (193 represented UN), 20 thousand participants. Russia never \"isolated\"! Each participant return home tell saw - best…   \n",
       "19  War Russia. The beggining. Karabulak, Ingushetia, Russia. CTO declared, city echoes explosions, gunfire. Islamist militants cornered, unleashing chaos FSB forces. In Ukraine, nod, 'Reap sow.' Russia's war bleeds back onto streets. War, once…   \n",
       "21                                                                                                                                                                                                        FindeDenFehler Miss Germany vs. Miss Russia   \n",
       "24                                                                                                                                                                                                                           I’M ON A TANK IN RUSSIA.   \n",
       "27                                                                       \"The French die Ukraine!\" The residents Paris came rally sending Western troops Ukraine. The protesters demanded republic's exit European Union termination membership NATO.   \n",
       "29                                                                                                                                                                                                 Russia Soldier enjoys playing Ukrainian drone drop   \n",
       "33                                                                                                  In Leningrad region (Russia), near port Bronka Gulf Finland, air defense systems allegedly triggered, local authorities write. RussiaIsCollapsing   \n",
       "37        You said, \"VoteBlueToSaveAmerica\". In 2020, America did. Since then, B!den CENSORED Whites, IGNORED Blacks, PAID Migrants, Propagated Jews Commit GENOCIDE Muslims, LIED Russia, TOOK MONEY CHINA...what part SAVED AMERICA? Was Vaccines?…   \n",
       "38                                                                         Donetsk heart Donbas. I understand struggle people Donbas Kiev regime one strongest acts heroism bravery, standing culture, language way life! I stand Donbas Russia, you?   \n",
       "46                                                In 1880s, stories atrocities Jews Russian Empire began publicised Times Telegraph backing Rothschilds elite Jewish families already living Britain. They investigated British consuls Russia found…   \n",
       "49                                                                                                We've seen film before. The question is, knowing plot, leaders finally get heads ... stop watch horror surprise russia begins \"liberating\" Moldova?   \n",
       "52                                                                                                                                                        A firenado fire tornado yesterday Primorsky Krai, Russia Russia PrimorskyKrai firenado fire   \n",
       "\n",
       "    tPolarity  tSubjectivity segmentation  \n",
       "1         0.0       0.000000      neutral  \n",
       "2         0.0       0.500000      neutral  \n",
       "7         0.0       0.000000      neutral  \n",
       "9         0.0       0.000000      neutral  \n",
       "17        0.0       0.000000      neutral  \n",
       "18        0.0       0.000000      neutral  \n",
       "19        0.0       0.000000      neutral  \n",
       "21        0.0       0.000000      neutral  \n",
       "24        0.0       0.000000      neutral  \n",
       "27        0.0       0.000000      neutral  \n",
       "29        0.0       0.000000      neutral  \n",
       "33        0.0       0.166667      neutral  \n",
       "37        0.0       0.000000      neutral  \n",
       "38        0.0       0.000000      neutral  \n",
       "46        0.0       0.000000      neutral  \n",
       "49        0.0       1.000000      neutral  \n",
       "52        0.0       0.000000      neutral  "
      ]
     },
     "execution_count": 145,
     "metadata": {},
     "output_type": "execute_result"
    }
   ],
   "source": [
    "# 3 neutral\n",
    "df[df.tPolarity==0]\n"
   ]
  },
  {
   "cell_type": "code",
   "execution_count": 146,
   "id": "f64a9748",
   "metadata": {},
   "outputs": [
    {
     "data": {
      "image/png": "[encoded data removed]",
      "text/plain": [
       "<Figure size 640x480 with 1 Axes>"
      ]
     },
     "metadata": {},
     "output_type": "display_data"
    }
   ],
   "source": [
    "import matplotlib.pyplot as plt\n",
    "\n",
    "consolidated = ' '.join(word for word in df['cleanedTweets'])\n",
    "\n",
    "wordCloud = WordCloud(width=400, height=200, random_state=20, max_font_size=119).generate(consolidated)\n",
    "\n",
    "plt.imshow(wordCloud, interpolation='bilinear')\n",
    "plt.axis('off')\n",
    "plt.show()"
   ]
  },
  {
   "cell_type": "code",
   "execution_count": 147,
   "id": "2d8f16dd",
   "metadata": {},
   "outputs": [],
   "source": [
    "import seaborn as sns\n"
   ]
  },
  {
   "cell_type": "code",
   "execution_count": 148,
   "id": "84511178",
   "metadata": {},
   "outputs": [
    {
     "data": {
      "text/html": [
       "<div>\n",
       "<style scoped>\n",
       "    .dataframe tbody tr th:only-of-type {\n",
       "        vertical-align: middle;\n",
       "    }\n",
       "\n",
       "    .dataframe tbody tr th {\n",
       "        vertical-align: top;\n",
       "    }\n",
       "\n",
       "    .dataframe thead th {\n",
       "        text-align: right;\n",
       "    }\n",
       "</style>\n",
       "<table border=\"1\" class=\"dataframe\">\n",
       "  <thead>\n",
       "    <tr style=\"text-align: right;\">\n",
       "      <th></th>\n",
       "      <th>tweets</th>\n",
       "      <th>cleanedTweets</th>\n",
       "      <th>tPolarity</th>\n",
       "      <th>tSubjectivity</th>\n",
       "    </tr>\n",
       "    <tr>\n",
       "      <th>segmentation</th>\n",
       "      <th></th>\n",
       "      <th></th>\n",
       "      <th></th>\n",
       "      <th></th>\n",
       "    </tr>\n",
       "  </thead>\n",
       "  <tbody>\n",
       "    <tr>\n",
       "      <th>negative</th>\n",
       "      <td>12</td>\n",
       "      <td>12</td>\n",
       "      <td>12</td>\n",
       "      <td>12</td>\n",
       "    </tr>\n",
       "    <tr>\n",
       "      <th>neutral</th>\n",
       "      <td>17</td>\n",
       "      <td>17</td>\n",
       "      <td>17</td>\n",
       "      <td>17</td>\n",
       "    </tr>\n",
       "    <tr>\n",
       "      <th>positive</th>\n",
       "      <td>25</td>\n",
       "      <td>25</td>\n",
       "      <td>25</td>\n",
       "      <td>25</td>\n",
       "    </tr>\n",
       "  </tbody>\n",
       "</table>\n",
       "</div>"
      ],
      "text/plain": [
       "              tweets  cleanedTweets  tPolarity  tSubjectivity\n",
       "segmentation                                                 \n",
       "negative          12             12         12             12\n",
       "neutral           17             17         17             17\n",
       "positive          25             25         25             25"
      ]
     },
     "execution_count": 148,
     "metadata": {},
     "output_type": "execute_result"
    }
   ],
   "source": [
    "df.groupby('segmentation').count()\n"
   ]
  },
  {
   "cell_type": "code",
   "execution_count": 149,
   "id": "c93ba632",
   "metadata": {},
   "outputs": [
    {
     "data": {
      "text/plain": [
       "<Axes: xlabel='tPolarity', ylabel='tSubjectivity'>"
      ]
     },
     "execution_count": 149,
     "metadata": {},
     "output_type": "execute_result"
    },
    {
     "data": {
      "image/png": "[encoded data removed]",
      "text/plain": [
       "<Figure size 1000x500 with 1 Axes>"
      ]
     },
     "metadata": {},
     "output_type": "display_data"
    }
   ],
   "source": [
    "plt.figure(figsize=(10,5))\n",
    "sns.set_style(\"whitegrid\")\n",
    "sns.scatterplot(data=df, x='tPolarity',y='tSubjectivity',s=100,hue='segmentation')\n"
   ]
  },
  {
   "cell_type": "code",
   "execution_count": 150,
   "id": "6f1024e0",
   "metadata": {},
   "outputs": [
    {
     "data": {
      "text/plain": [
       "<Axes: xlabel='segmentation', ylabel='count'>"
      ]
     },
     "execution_count": 150,
     "metadata": {},
     "output_type": "execute_result"
    },
    {
     "data": {
      "image/png": "[encoded data removed]",
      "text/plain": [
       "<Figure size 640x480 with 1 Axes>"
      ]
     },
     "metadata": {},
     "output_type": "display_data"
    }
   ],
   "source": [
    "sns.countplot(data=df,x='segmentation')\n"
   ]
  },
  {
   "cell_type": "code",
   "execution_count": 151,
   "id": "09b324dd",
   "metadata": {},
   "outputs": [
    {
     "data": {
      "text/html": [
       "<div>\n",
       "<style scoped>\n",
       "    .dataframe tbody tr th:only-of-type {\n",
       "        vertical-align: middle;\n",
       "    }\n",
       "\n",
       "    .dataframe tbody tr th {\n",
       "        vertical-align: top;\n",
       "    }\n",
       "\n",
       "    .dataframe thead th {\n",
       "        text-align: right;\n",
       "    }\n",
       "</style>\n",
       "<table border=\"1\" class=\"dataframe\">\n",
       "  <thead>\n",
       "    <tr style=\"text-align: right;\">\n",
       "      <th></th>\n",
       "      <th>response</th>\n",
       "      <th>percentage</th>\n",
       "    </tr>\n",
       "  </thead>\n",
       "  <tbody>\n",
       "    <tr>\n",
       "      <th>0</th>\n",
       "      <td>positive</td>\n",
       "      <td>46.3</td>\n",
       "    </tr>\n",
       "    <tr>\n",
       "      <th>1</th>\n",
       "      <td>negative</td>\n",
       "      <td>22.2</td>\n",
       "    </tr>\n",
       "    <tr>\n",
       "      <th>2</th>\n",
       "      <td>neutral</td>\n",
       "      <td>31.5</td>\n",
       "    </tr>\n",
       "  </tbody>\n",
       "</table>\n",
       "</div>"
      ],
      "text/plain": [
       "   response  percentage\n",
       "0  positive        46.3\n",
       "1  negative        22.2\n",
       "2   neutral        31.5"
      ]
     },
     "execution_count": 151,
     "metadata": {},
     "output_type": "execute_result"
    }
   ],
   "source": [
    "positive = round(len(df[df.segmentation == 'positive'])/len(df)*100,1)\n",
    "negative = round(len(df[df.segmentation == 'negative'])/len(df)*100,1)\n",
    "neutral = round(len(df[df.segmentation == 'neutral'])/len(df)*100,1)\n",
    "\n",
    "responses = [positive, negative, neutral]\n",
    "responses\n",
    "\n",
    "response = {'response': ['positive', 'negative', 'neutral'], 'percentage':[positive, negative, neutral]}\n",
    "pd.DataFrame(response)"
   ]
  },
  {
   "cell_type": "code",
   "execution_count": null,
   "id": "802a5b83",
   "metadata": {},
   "outputs": [],
   "source": []
  }
 ],
 "metadata": {
  "kernelspec": {
   "display_name": "Python 3 (ipykernel)",
   "language": "python",
   "name": "python3"
  },
  "language_info": {
   "codemirror_mode": {
    "name": "ipython",
    "version": 3
   },
   "file_extension": ".py",
   "mimetype": "text/x-python",
   "name": "python",
   "nbconvert_exporter": "python",
   "pygments_lexer": "ipython3",
   "version": "3.11.5"
  }
 },
 "nbformat": 4,
 "nbformat_minor": 5
}
